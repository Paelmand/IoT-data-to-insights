{
 "cells": [
  {
   "cell_type": "markdown",
   "metadata": {
    "slideshow": {
     "slide_type": "slide"
    }
   },
   "source": [
    "### Analyzing Sensor Data \n",
    "\n",
    "## Internet of Things\n",
    "\n",
    "# Moving from Data to Insights\n",
    "\n",
    "Instructor: Ram Narasimhan"
   ]
  },
  {
   "cell_type": "markdown",
   "metadata": {
    "slideshow": {
     "slide_type": "slide"
    }
   },
   "source": [
    "The Internet of Things (IoT) has brought us a lot of data. These are possible thanks to the 1000's of devices, smart meters, sensors and instrumented machines all around us.\n",
    "One challenge for any Data Analytics engineer is to make sense of the data that is now ubiquitous.\n",
    "\n",
    "In this exercise, we will take one instrumented data set and we'll try to analyze that data set to gain some insights. In this case, the data set comes from an Android smart phone.\n",
    "\n",
    "To work through this exercise, you will need the data file `android_phonedata.csv`\n",
    "\n",
    "Read the data and try to answer the questions that follow. (SOLUTIONS will be provided in a separate notebook.)\n"
   ]
  },
  {
   "cell_type": "markdown",
   "metadata": {
    "slideshow": {
     "slide_type": "slide"
    }
   },
   "source": [
    "### <div class=\"alert alert-block alert-warning\">  We would like to analyze our personal phone usage history. The data comes from Bandicoot (MIT) for an Android Smartphone.</div>\n",
    "\n"
   ]
  },
  {
   "cell_type": "markdown",
   "metadata": {
    "slideshow": {
     "slide_type": "slide"
    }
   },
   "source": [
    "## <div class=\"alert alert-block alert-success\">Thought Question: Before reading further, things about this: What are some of the questions that you would like ask about your own phone usage?</div>"
   ]
  },
  {
   "cell_type": "code",
   "execution_count": 2,
   "metadata": {
    "slideshow": {
     "slide_type": "slide"
    }
   },
   "outputs": [],
   "source": [
    "import numpy as np #load all needed modules\n",
    "import matplotlib.pyplot as plt\n",
    "import pandas as pd\n",
    "import seaborn as sns\n",
    "#will create plots in the notebook itself\n",
    "%matplotlib inline \n"
   ]
  },
  {
   "cell_type": "code",
   "execution_count": 3,
   "metadata": {
    "slideshow": {
     "slide_type": "slide"
    }
   },
   "outputs": [
    {
     "data": {
      "text/html": [
       "<div>\n",
       "<style scoped>\n",
       "    .dataframe tbody tr th:only-of-type {\n",
       "        vertical-align: middle;\n",
       "    }\n",
       "\n",
       "    .dataframe tbody tr th {\n",
       "        vertical-align: top;\n",
       "    }\n",
       "\n",
       "    .dataframe thead th {\n",
       "        text-align: right;\n",
       "    }\n",
       "</style>\n",
       "<table border=\"1\" class=\"dataframe\">\n",
       "  <thead>\n",
       "    <tr style=\"text-align: right;\">\n",
       "      <th></th>\n",
       "      <th>interaction</th>\n",
       "      <th>direction</th>\n",
       "      <th>correspondent_id</th>\n",
       "      <th>datetime</th>\n",
       "      <th>call_duration</th>\n",
       "      <th>antenna_id</th>\n",
       "    </tr>\n",
       "  </thead>\n",
       "  <tbody>\n",
       "    <tr>\n",
       "      <th>0</th>\n",
       "      <td>call</td>\n",
       "      <td>out</td>\n",
       "      <td>88ad215ab537b07ca2f8beb13d51cd5175e4217f</td>\n",
       "      <td>2016-12-21 00:25:30</td>\n",
       "      <td>4.0</td>\n",
       "      <td>NaN</td>\n",
       "    </tr>\n",
       "    <tr>\n",
       "      <th>1</th>\n",
       "      <td>call</td>\n",
       "      <td>out</td>\n",
       "      <td>88ad215ab537b07ca2f8beb13d51cd5175e4217f</td>\n",
       "      <td>2016-12-21 00:25:56</td>\n",
       "      <td>42.0</td>\n",
       "      <td>NaN</td>\n",
       "    </tr>\n",
       "    <tr>\n",
       "      <th>2</th>\n",
       "      <td>call</td>\n",
       "      <td>out</td>\n",
       "      <td>18452df8a2654696b08897d66b3ebfda36d3ad60</td>\n",
       "      <td>2016-12-21 00:30:43</td>\n",
       "      <td>NaN</td>\n",
       "      <td>NaN</td>\n",
       "    </tr>\n",
       "    <tr>\n",
       "      <th>3</th>\n",
       "      <td>call</td>\n",
       "      <td>out</td>\n",
       "      <td>18452df8a2654696b08897d66b3ebfda36d3ad60</td>\n",
       "      <td>2016-12-21 00:30:49</td>\n",
       "      <td>NaN</td>\n",
       "      <td>NaN</td>\n",
       "    </tr>\n",
       "    <tr>\n",
       "      <th>4</th>\n",
       "      <td>call</td>\n",
       "      <td>out</td>\n",
       "      <td>18452df8a2654696b08897d66b3ebfda36d3ad60</td>\n",
       "      <td>2016-12-21 00:31:15</td>\n",
       "      <td>3.0</td>\n",
       "      <td>NaN</td>\n",
       "    </tr>\n",
       "  </tbody>\n",
       "</table>\n",
       "</div>"
      ],
      "text/plain": [
       "  interaction direction                          correspondent_id  \\\n",
       "0        call       out  88ad215ab537b07ca2f8beb13d51cd5175e4217f   \n",
       "1        call       out  88ad215ab537b07ca2f8beb13d51cd5175e4217f   \n",
       "2        call       out  18452df8a2654696b08897d66b3ebfda36d3ad60   \n",
       "3        call       out  18452df8a2654696b08897d66b3ebfda36d3ad60   \n",
       "4        call       out  18452df8a2654696b08897d66b3ebfda36d3ad60   \n",
       "\n",
       "              datetime  call_duration  antenna_id  \n",
       "0  2016-12-21 00:25:30            4.0         NaN  \n",
       "1  2016-12-21 00:25:56           42.0         NaN  \n",
       "2  2016-12-21 00:30:43            NaN         NaN  \n",
       "3  2016-12-21 00:30:49            NaN         NaN  \n",
       "4  2016-12-21 00:31:15            3.0         NaN  "
      ]
     },
     "execution_count": 3,
     "metadata": {},
     "output_type": "execute_result"
    }
   ],
   "source": [
    "df = pd.read_csv(\"data/android_phonedata.csv\") \n",
    "df.head()"
   ]
  },
  {
   "cell_type": "code",
   "execution_count": 4,
   "metadata": {},
   "outputs": [
    {
     "data": {
      "text/html": [
       "<div>\n",
       "<style scoped>\n",
       "    .dataframe tbody tr th:only-of-type {\n",
       "        vertical-align: middle;\n",
       "    }\n",
       "\n",
       "    .dataframe tbody tr th {\n",
       "        vertical-align: top;\n",
       "    }\n",
       "\n",
       "    .dataframe thead th {\n",
       "        text-align: right;\n",
       "    }\n",
       "</style>\n",
       "<table border=\"1\" class=\"dataframe\">\n",
       "  <thead>\n",
       "    <tr style=\"text-align: right;\">\n",
       "      <th></th>\n",
       "      <th>interaction</th>\n",
       "      <th>direction</th>\n",
       "      <th>correspondent_id</th>\n",
       "      <th>datetime</th>\n",
       "      <th>call_duration</th>\n",
       "      <th>antenna_id</th>\n",
       "    </tr>\n",
       "  </thead>\n",
       "  <tbody>\n",
       "    <tr>\n",
       "      <th>2529</th>\n",
       "      <td>text</td>\n",
       "      <td>out</td>\n",
       "      <td>88ad215ab537b07ca2f8beb13d51cd5175e4217f</td>\n",
       "      <td>2017-09-23 21:56:19</td>\n",
       "      <td>NaN</td>\n",
       "      <td>NaN</td>\n",
       "    </tr>\n",
       "    <tr>\n",
       "      <th>2530</th>\n",
       "      <td>text</td>\n",
       "      <td>in</td>\n",
       "      <td>88ad215ab537b07ca2f8beb13d51cd5175e4217f</td>\n",
       "      <td>2017-09-23 21:56:43</td>\n",
       "      <td>NaN</td>\n",
       "      <td>NaN</td>\n",
       "    </tr>\n",
       "    <tr>\n",
       "      <th>2531</th>\n",
       "      <td>text</td>\n",
       "      <td>out</td>\n",
       "      <td>89914c2eeba5b78ab9e38baa785fc4b03c9d8193</td>\n",
       "      <td>2017-09-23 22:49:49</td>\n",
       "      <td>NaN</td>\n",
       "      <td>NaN</td>\n",
       "    </tr>\n",
       "    <tr>\n",
       "      <th>2532</th>\n",
       "      <td>text</td>\n",
       "      <td>in</td>\n",
       "      <td>89914c2eeba5b78ab9e38baa785fc4b03c9d8193</td>\n",
       "      <td>2017-09-24 00:37:30</td>\n",
       "      <td>NaN</td>\n",
       "      <td>NaN</td>\n",
       "    </tr>\n",
       "    <tr>\n",
       "      <th>2533</th>\n",
       "      <td>call</td>\n",
       "      <td>in</td>\n",
       "      <td>89914c2eeba5b78ab9e38baa785fc4b03c9d8193</td>\n",
       "      <td>2017-09-24 07:29:16</td>\n",
       "      <td>NaN</td>\n",
       "      <td>NaN</td>\n",
       "    </tr>\n",
       "  </tbody>\n",
       "</table>\n",
       "</div>"
      ],
      "text/plain": [
       "     interaction direction                          correspondent_id  \\\n",
       "2529        text       out  88ad215ab537b07ca2f8beb13d51cd5175e4217f   \n",
       "2530        text        in  88ad215ab537b07ca2f8beb13d51cd5175e4217f   \n",
       "2531        text       out  89914c2eeba5b78ab9e38baa785fc4b03c9d8193   \n",
       "2532        text        in  89914c2eeba5b78ab9e38baa785fc4b03c9d8193   \n",
       "2533        call        in  89914c2eeba5b78ab9e38baa785fc4b03c9d8193   \n",
       "\n",
       "                 datetime  call_duration  antenna_id  \n",
       "2529  2017-09-23 21:56:19            NaN         NaN  \n",
       "2530  2017-09-23 21:56:43            NaN         NaN  \n",
       "2531  2017-09-23 22:49:49            NaN         NaN  \n",
       "2532  2017-09-24 00:37:30            NaN         NaN  \n",
       "2533  2017-09-24 07:29:16            NaN         NaN  "
      ]
     },
     "execution_count": 4,
     "metadata": {},
     "output_type": "execute_result"
    }
   ],
   "source": [
    "df.tail()"
   ]
  },
  {
   "cell_type": "markdown",
   "metadata": {
    "slideshow": {
     "slide_type": "slide"
    }
   },
   "source": [
    "**There is a lot of useful information here.**\n",
    "\n",
    "But the antenna_id column seems useless. Let's drop it."
   ]
  },
  {
   "cell_type": "code",
   "execution_count": 5,
   "metadata": {
    "slideshow": {
     "slide_type": "slide"
    }
   },
   "outputs": [
    {
     "data": {
      "text/plain": [
       "array([nan])"
      ]
     },
     "execution_count": 5,
     "metadata": {},
     "output_type": "execute_result"
    }
   ],
   "source": [
    "df.antenna_id.unique() #verifying that it is all NaN"
   ]
  },
  {
   "cell_type": "code",
   "execution_count": 6,
   "metadata": {
    "slideshow": {
     "slide_type": "slide"
    }
   },
   "outputs": [],
   "source": [
    "df.drop(labels= \"antenna_id\", axis=1, inplace=True)"
   ]
  },
  {
   "cell_type": "markdown",
   "metadata": {
    "slideshow": {
     "slide_type": "slide"
    }
   },
   "source": [
    "# Question how many categorical Columns do you see?\n",
    "\n",
    "# What sorts of plots can we create with these columns?"
   ]
  },
  {
   "cell_type": "code",
   "execution_count": 7,
   "metadata": {},
   "outputs": [
    {
     "data": {
      "text/plain": [
       "interaction\n",
       "call     500\n",
       "text    2034\n",
       "dtype: int64"
      ]
     },
     "execution_count": 7,
     "metadata": {},
     "output_type": "execute_result"
    }
   ],
   "source": [
    "categories = df.groupby('interaction')\n",
    "categories.size()"
   ]
  },
  {
   "cell_type": "code",
   "execution_count": 8,
   "metadata": {},
   "outputs": [
    {
     "data": {
      "text/plain": [
       "direction\n",
       "in     1262\n",
       "out    1272\n",
       "dtype: int64"
      ]
     },
     "execution_count": 8,
     "metadata": {},
     "output_type": "execute_result"
    }
   ],
   "source": [
    "categories2 = df.groupby('direction')\n",
    "categories2.size()"
   ]
  },
  {
   "cell_type": "markdown",
   "metadata": {},
   "source": [
    "There are two categorical colums, Interaction and direction"
   ]
  },
  {
   "cell_type": "markdown",
   "metadata": {
    "slideshow": {
     "slide_type": "slide"
    }
   },
   "source": [
    "# Q1: How big is the data set? `pd.describe` the dataset."
   ]
  },
  {
   "cell_type": "code",
   "execution_count": 9,
   "metadata": {},
   "outputs": [
    {
     "data": {
      "text/plain": [
       "<bound method NDFrame.describe of      interaction direction                          correspondent_id  \\\n",
       "0           call       out  88ad215ab537b07ca2f8beb13d51cd5175e4217f   \n",
       "1           call       out  88ad215ab537b07ca2f8beb13d51cd5175e4217f   \n",
       "2           call       out  18452df8a2654696b08897d66b3ebfda36d3ad60   \n",
       "3           call       out  18452df8a2654696b08897d66b3ebfda36d3ad60   \n",
       "4           call       out  18452df8a2654696b08897d66b3ebfda36d3ad60   \n",
       "5           call       out  88ad215ab537b07ca2f8beb13d51cd5175e4217f   \n",
       "6           call        in  88ad215ab537b07ca2f8beb13d51cd5175e4217f   \n",
       "7           call       out  88ad215ab537b07ca2f8beb13d51cd5175e4217f   \n",
       "8           call       out  da02b5d0a2ed9d5ab271769f692ab641b43893d3   \n",
       "9           call       out  18452df8a2654696b08897d66b3ebfda36d3ad60   \n",
       "10          call        in  88ad215ab537b07ca2f8beb13d51cd5175e4217f   \n",
       "11          call        in  88ad215ab537b07ca2f8beb13d51cd5175e4217f   \n",
       "12          text       out  88ad215ab537b07ca2f8beb13d51cd5175e4217f   \n",
       "13          text        in  593ed24a7e61427452aa9d9c31218e910947a42b   \n",
       "14          call       out  5fed21afe6e8968cf22b89638aca4d1b696aa96f   \n",
       "15          call        in  5fed21afe6e8968cf22b89638aca4d1b696aa96f   \n",
       "16          text        in  88ad215ab537b07ca2f8beb13d51cd5175e4217f   \n",
       "17          text       out  88ad215ab537b07ca2f8beb13d51cd5175e4217f   \n",
       "18          text        in  88ad215ab537b07ca2f8beb13d51cd5175e4217f   \n",
       "19          text       out  88ad215ab537b07ca2f8beb13d51cd5175e4217f   \n",
       "20          call       out  7e05ea2b59ae06fe46de7928dd21e11d5a4e310c   \n",
       "21          text        in  88ad215ab537b07ca2f8beb13d51cd5175e4217f   \n",
       "22          call        in  88ad215ab537b07ca2f8beb13d51cd5175e4217f   \n",
       "23          call        in  88ad215ab537b07ca2f8beb13d51cd5175e4217f   \n",
       "24          call        in  88ad215ab537b07ca2f8beb13d51cd5175e4217f   \n",
       "25          text        in  88ad215ab537b07ca2f8beb13d51cd5175e4217f   \n",
       "26          text       out  88ad215ab537b07ca2f8beb13d51cd5175e4217f   \n",
       "27          text        in  88ad215ab537b07ca2f8beb13d51cd5175e4217f   \n",
       "28          call       out  f7518e4ac4747738b07f7e7d96c9dfdf412dfc4b   \n",
       "29          call       out  88ad215ab537b07ca2f8beb13d51cd5175e4217f   \n",
       "...          ...       ...                                       ...   \n",
       "2504        text       out  438b1ac3d218907c906756830020122645c5fb4e   \n",
       "2505        text        in  438b1ac3d218907c906756830020122645c5fb4e   \n",
       "2506        text       out  88ad215ab537b07ca2f8beb13d51cd5175e4217f   \n",
       "2507        call        in  89914c2eeba5b78ab9e38baa785fc4b03c9d8193   \n",
       "2508        text        in  89914c2eeba5b78ab9e38baa785fc4b03c9d8193   \n",
       "2509        text        in  88ad215ab537b07ca2f8beb13d51cd5175e4217f   \n",
       "2510        text       out  89914c2eeba5b78ab9e38baa785fc4b03c9d8193   \n",
       "2511        text       out  88ad215ab537b07ca2f8beb13d51cd5175e4217f   \n",
       "2512        text        in  88ad215ab537b07ca2f8beb13d51cd5175e4217f   \n",
       "2513        text        in  88ad215ab537b07ca2f8beb13d51cd5175e4217f   \n",
       "2514        text       out  88ad215ab537b07ca2f8beb13d51cd5175e4217f   \n",
       "2515        text       out  88ad215ab537b07ca2f8beb13d51cd5175e4217f   \n",
       "2516        text        in  88ad215ab537b07ca2f8beb13d51cd5175e4217f   \n",
       "2517        text       out  88ad215ab537b07ca2f8beb13d51cd5175e4217f   \n",
       "2518        text       out  88ad215ab537b07ca2f8beb13d51cd5175e4217f   \n",
       "2519        text        in  89914c2eeba5b78ab9e38baa785fc4b03c9d8193   \n",
       "2520        text        in  89914c2eeba5b78ab9e38baa785fc4b03c9d8193   \n",
       "2521        text        in  89914c2eeba5b78ab9e38baa785fc4b03c9d8193   \n",
       "2522        text        in  89914c2eeba5b78ab9e38baa785fc4b03c9d8193   \n",
       "2523        text        in  88ad215ab537b07ca2f8beb13d51cd5175e4217f   \n",
       "2524        text       out  88ad215ab537b07ca2f8beb13d51cd5175e4217f   \n",
       "2525        text        in  89914c2eeba5b78ab9e38baa785fc4b03c9d8193   \n",
       "2526        text        in  89914c2eeba5b78ab9e38baa785fc4b03c9d8193   \n",
       "2527        text       out  89914c2eeba5b78ab9e38baa785fc4b03c9d8193   \n",
       "2528        text        in  88ad215ab537b07ca2f8beb13d51cd5175e4217f   \n",
       "2529        text       out  88ad215ab537b07ca2f8beb13d51cd5175e4217f   \n",
       "2530        text        in  88ad215ab537b07ca2f8beb13d51cd5175e4217f   \n",
       "2531        text       out  89914c2eeba5b78ab9e38baa785fc4b03c9d8193   \n",
       "2532        text        in  89914c2eeba5b78ab9e38baa785fc4b03c9d8193   \n",
       "2533        call        in  89914c2eeba5b78ab9e38baa785fc4b03c9d8193   \n",
       "\n",
       "                 datetime  call_duration  \n",
       "0     2016-12-21 00:25:30            4.0  \n",
       "1     2016-12-21 00:25:56           42.0  \n",
       "2     2016-12-21 00:30:43            NaN  \n",
       "3     2016-12-21 00:30:49            NaN  \n",
       "4     2016-12-21 00:31:15            3.0  \n",
       "5     2016-12-21 00:31:29            4.0  \n",
       "6     2016-12-21 00:34:31           41.0  \n",
       "7     2016-12-21 00:37:28           33.0  \n",
       "8     2016-12-21 01:23:12           54.0  \n",
       "9     2016-12-21 03:04:04          336.0  \n",
       "10    2016-12-21 18:21:39           15.0  \n",
       "11    2016-12-21 18:25:17           33.0  \n",
       "12    2016-12-21 19:05:19            NaN  \n",
       "13    2016-12-21 21:15:40            NaN  \n",
       "14    2016-12-21 22:41:21            4.0  \n",
       "15    2016-12-21 22:41:41         3951.0  \n",
       "16    2016-12-21 23:59:46            NaN  \n",
       "17    2016-12-22 00:34:34            NaN  \n",
       "18    2016-12-22 00:53:23            NaN  \n",
       "19    2016-12-22 00:58:22            NaN  \n",
       "20    2016-12-22 21:34:21           29.0  \n",
       "21    2016-12-22 23:18:45            NaN  \n",
       "22    2016-12-22 23:41:03          140.0  \n",
       "23    2016-12-22 23:43:44           49.0  \n",
       "24    2016-12-23 00:59:34            NaN  \n",
       "25    2016-12-23 01:00:04            NaN  \n",
       "26    2016-12-23 01:00:21            NaN  \n",
       "27    2016-12-23 18:37:45            NaN  \n",
       "28    2016-12-24 19:32:01           75.0  \n",
       "29    2016-12-24 21:50:36           11.0  \n",
       "...                   ...            ...  \n",
       "2504  2017-09-22 07:47:50            NaN  \n",
       "2505  2017-09-22 07:52:28            NaN  \n",
       "2506  2017-09-22 18:43:14            NaN  \n",
       "2507  2017-09-23 02:43:47            NaN  \n",
       "2508  2017-09-23 02:53:07            NaN  \n",
       "2509  2017-09-23 05:23:11            NaN  \n",
       "2510  2017-09-23 06:35:44            NaN  \n",
       "2511  2017-09-23 06:36:53            NaN  \n",
       "2512  2017-09-23 06:38:13            NaN  \n",
       "2513  2017-09-23 06:38:29            NaN  \n",
       "2514  2017-09-23 06:39:08            NaN  \n",
       "2515  2017-09-23 06:50:59            NaN  \n",
       "2516  2017-09-23 06:55:26            NaN  \n",
       "2517  2017-09-23 07:03:40            NaN  \n",
       "2518  2017-09-23 07:05:10            NaN  \n",
       "2519  2017-09-23 09:26:28            NaN  \n",
       "2520  2017-09-23 09:26:32            NaN  \n",
       "2521  2017-09-23 09:26:33            NaN  \n",
       "2522  2017-09-23 09:26:35            NaN  \n",
       "2523  2017-09-23 19:37:38            NaN  \n",
       "2524  2017-09-23 19:38:00            NaN  \n",
       "2525  2017-09-23 21:52:30            NaN  \n",
       "2526  2017-09-23 21:52:37            NaN  \n",
       "2527  2017-09-23 21:54:29            NaN  \n",
       "2528  2017-09-23 21:56:03            NaN  \n",
       "2529  2017-09-23 21:56:19            NaN  \n",
       "2530  2017-09-23 21:56:43            NaN  \n",
       "2531  2017-09-23 22:49:49            NaN  \n",
       "2532  2017-09-24 00:37:30            NaN  \n",
       "2533  2017-09-24 07:29:16            NaN  \n",
       "\n",
       "[2534 rows x 5 columns]>"
      ]
     },
     "execution_count": 9,
     "metadata": {},
     "output_type": "execute_result"
    }
   ],
   "source": [
    "df.describe"
   ]
  },
  {
   "cell_type": "markdown",
   "metadata": {},
   "source": [
    "### Q2: How many incoming and outgoing activities are there? (in this dataset)"
   ]
  },
  {
   "cell_type": "code",
   "execution_count": 10,
   "metadata": {},
   "outputs": [
    {
     "data": {
      "text/plain": [
       "direction\n",
       "in     1262\n",
       "out    1272\n",
       "dtype: int64"
      ]
     },
     "execution_count": 10,
     "metadata": {},
     "output_type": "execute_result"
    }
   ],
   "source": [
    "categories2 = df.groupby('direction')\n",
    "categories2.size()"
   ]
  },
  {
   "cell_type": "markdown",
   "metadata": {
    "slideshow": {
     "slide_type": "slide"
    }
   },
   "source": [
    "# Q3: Create a histogram of `Call Duration`\n",
    "\n",
    "What insights do you get from this histogram?\n",
    "\n",
    "Call_duration is numeric column. So we can immediately try a histogram.\n",
    "In seaborn, this is called a DISTRIBUTION PLOT. (distplot)\n"
   ]
  },
  {
   "cell_type": "code",
   "execution_count": 13,
   "metadata": {},
   "outputs": [
    {
     "data": {
      "image/png": "[encoded data removed]",
      "text/plain": [
       "<matplotlib.figure.Figure at 0x6770e70>"
      ]
     },
     "metadata": {},
     "output_type": "display_data"
    }
   ],
   "source": [
    "df['call_duration'].plot.hist(grid=True, bins=20, rwidth=0.9)\n",
    "plt.title('Call duration, distribution plot')\n",
    "plt.xlabel('Counts')\n",
    "plt.ylabel('Call duration')\n",
    "plt.grid(axis='y', alpha=0.75)"
   ]
  },
  {
   "cell_type": "markdown",
   "metadata": {},
   "source": [
    "# Q3B. Plot a histogram of only those calls that are of non-zero duration. \n",
    "We do this because we don't have to count missed calls, text messages etc.\n",
    "\n",
    "# Q3C. Plot a histogram of only those calls that are over a certain duration. \n",
    "For example, you could look at the distribution of calls that are greater than 60 seconds.\n"
   ]
  },
  {
   "cell_type": "markdown",
   "metadata": {},
   "source": [
    "### Q4: Store all the calls that are more than 60 seconds in a new df\n",
    "\n",
    "Create a Box plot that shows how these (longer) `call durations` are distributed?"
   ]
  },
  {
   "cell_type": "markdown",
   "metadata": {
    "slideshow": {
     "slide_type": "slide"
    }
   },
   "source": [
    "### Q5: Find the total minutes of incoming and total minutes of outgoing call\n"
   ]
  },
  {
   "cell_type": "markdown",
   "metadata": {},
   "source": [
    "### Q6: How many distinct devices (`correspondent_id`) has this person interacted with?"
   ]
  },
  {
   "cell_type": "markdown",
   "metadata": {},
   "source": [
    "** Q7: From the dataset, what is the total time spent by this Android phone owner, with each of the correspondents?**\n",
    "\n",
    "To do, you will have to compute the total time spent with each correspondent, and then plot it as a bar plot.\n"
   ]
  },
  {
   "cell_type": "markdown",
   "metadata": {
    "slideshow": {
     "slide_type": "slide"
    }
   },
   "source": [
    "### Task: Set df['datetime'] as the index and delete the 'datetime' column\n",
    "\n",
    "In other words, convert the timestamp to `datetime` and make it the index for the dataframe."
   ]
  },
  {
   "cell_type": "markdown",
   "metadata": {
    "slideshow": {
     "slide_type": "slide"
    }
   },
   "source": [
    "Once we have the datetime column as the DataFrame's INDEX, several time-based manipulations becomes available to us. (This is one reason that Pandas is so powerful for Time Series analysis.)\n",
    "\n",
    "Pandas has a special object type called datetime, and if a column is for that type, we can do a lot of time relating slicing..."
   ]
  },
  {
   "cell_type": "markdown",
   "metadata": {
    "slideshow": {
     "slide_type": "slide"
    }
   },
   "source": [
    "# Question for the class:\n",
    "\n",
    "** Q8: Using the index, subset the data frame to include just the calls for 3 months (Jan, Feb and March of 2017) **\n"
   ]
  },
  {
   "cell_type": "markdown",
   "metadata": {},
   "source": [
    "### Q9: Create a Time Series plot of the Call Duration.\n",
    "\n",
    "In other words, the x-axis should be the time (date). The Y axis will be the call durations of each call made at that time. Make it a scatter plot or plot bars (your choice) so that the data is clearly conveyed to the viewer."
   ]
  },
  {
   "cell_type": "markdown",
   "metadata": {
    "slideshow": {
     "slide_type": "slide"
    }
   },
   "source": [
    "# Extra Questions for you to try out.\n",
    "\n",
    "\n",
    "- Q9: Who does this person call the most?\n",
    "- Q10: What is the calling pattern by DOW? by TOD? (day of week, time of day)\n",
    "- Q11: Do people call this person more frequently, or does this person call them more?! (Incoming calls vs Outgoing calls)"
   ]
  }
 ],
 "metadata": {
  "kernelspec": {
   "display_name": "Python 3",
   "language": "python",
   "name": "python3"
  },
  "language_info": {
   "codemirror_mode": {
    "name": "ipython",
    "version": 3
   },
   "file_extension": ".py",
   "mimetype": "text/x-python",
   "name": "python",
   "nbconvert_exporter": "python",
   "pygments_lexer": "ipython3",
   "version": "3.6.4"
  }
 },
 "nbformat": 4,
 "nbformat_minor": 2
}
